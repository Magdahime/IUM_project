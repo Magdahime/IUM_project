{
 "cells": [
  {
   "cell_type": "code",
   "execution_count": 2,
   "metadata": {},
   "outputs": [],
   "source": [
    "import numpy as np\n",
    "import pandas as pd\n",
    "from sklearn.model_selection import train_test_split\n",
    "from sklearn.naive_bayes import GaussianNB\n",
    "from sklearn.metrics import accuracy_score\n",
    "import matplotlib.pyplot as plt\n",
    "import seaborn as sns\n",
    "from data_preprocessing.DataLoader import DataLoader\n",
    "from sklearn.preprocessing import StandardScaler"
   ]
  },
  {
   "cell_type": "code",
   "execution_count": null,
   "metadata": {},
   "outputs": [],
   "source": []
  },
  {
   "cell_type": "code",
   "execution_count": null,
   "metadata": {},
   "outputs": [],
   "source": []
  },
  {
   "cell_type": "code",
   "execution_count": 3,
   "metadata": {},
   "outputs": [],
   "source": [
    "def unite_sets(deliveries, products, sessions, users):\n",
    "    deliveries[\"deltas\"] = deliveries[\"delivery_timestamp\"] - deliveries[\"purchase_timestamp\"]\n",
    "\n",
    "    # divide category\n",
    "    categories = products.category_path.str.split(';', expand=True)\n",
    "    products = pd.concat([products, categories], axis=1)\n",
    "    products = products.drop(columns=['category_path'])\n",
    "    products = products.rename(\n",
    "        columns={0: \"primary_category\", 1: \"secondary_category\", 2: \"tertiary_category\", 3: \"quaternary_category\"})\n",
    "\n",
    "\n",
    "    deliveries_sessions = pd.merge(deliveries, sessions, left_on=\"purchase_id\", right_on=\"purchase_id\")\n",
    "    deliveries_sessions_users = pd.merge(deliveries_sessions, users, left_on=\"user_id\", right_on=\"user_id\")\n",
    "    deliveries_sessions_users_products = pd.merge(deliveries_sessions_users, products, left_on=\"product_id\", right_on=\"product_id\")\n",
    "\n",
    "    deliveries_sessions_users_products.to_csv('../out.csv')\n",
    "    return deliveries_sessions_users_products"
   ]
  },
  {
   "cell_type": "code",
   "execution_count": 4,
   "metadata": {},
   "outputs": [],
   "source": [
    "#Function for labeling rows\n",
    "def labelTimeOfDay(row):\n",
    "    hour = row['purchase_timestamp'].hour\n",
    "    if(hour >= 6 and hour < 12):\n",
    "        return \"Morning\"\n",
    "    elif(hour >= 12 and hour < 18):\n",
    "        return \"Afternoon\"\n",
    "    elif(hour >=18 and hour < 24):\n",
    "        return \"Evening\"\n",
    "    else:\n",
    "        return \"Night\""
   ]
  },
  {
   "cell_type": "code",
   "execution_count": 5,
   "metadata": {},
   "outputs": [],
   "source": [
    "def one_hot_encode(united, s):\n",
    "    y = pd.get_dummies(united[s], prefix=s)\n",
    "    united = united.join(other=y)\n",
    "    united = united.loc[:, united.columns != s]\n",
    "    return united"
   ]
  },
  {
   "cell_type": "code",
   "execution_count": 6,
   "metadata": {},
   "outputs": [],
   "source": [
    "    def oneHotEncode(united, columns):\n",
    "        for column in columns:\n",
    "            united = one_hot_encode(united, column)\n",
    "        return united"
   ]
  },
  {
   "cell_type": "code",
   "execution_count": 20,
   "metadata": {},
   "outputs": [],
   "source": [
    "d = DataLoader.load_data_from_path(\"data\")\n",
    "\n",
    "products = d.products\n",
    "deliveries = d.deliveries\n",
    "sessions = d.sessions\n",
    "users = d.users\n",
    "\n",
    "united = unite_sets(deliveries, products, sessions, users)\n",
    "\n",
    "# nie wnosi zadnej informacji wiec wyrzucamy daną kolumnę\n",
    "united = united.loc[:, united.columns != 'event_type']\n",
    "united = united.loc[:, united.columns != 'name']\n",
    "united = united.loc[:, united.columns != 'street']\n",
    "united = united.loc[:, united.columns != 'product_name']\n",
    "united = united.loc[:, united.columns != 'delivery_timestamp']\n",
    "united = united.loc[:, united.columns != 'timestamp']\n",
    "united = united.loc[:, united.columns != 'purchase_id']\n",
    "united = united.loc[:, united.columns != 'product_id']\n",
    "united = united.loc[:, united.columns != 'user_id']\n",
    "united = united.loc[:, united.columns != 'session_id']\n",
    "united = united.loc[:, united.columns != 'primary_category']\n",
    "united = united.loc[:, united.columns != 'secondary_category']\n",
    "united = united.loc[:, united.columns != 'tertiary_category']\n",
    "united = united.loc[:, united.columns != 'quaternary_category']\n",
    "# united = united.loc[:, united.columns != 'offered_discount']\n",
    "# united = united.loc[:, united.columns != 'price']\n",
    "\n",
    "united.to_csv(\"test.csv\")\n",
    "\n",
    "united.loc[:,'time_of_day'] = united.apply(lambda row: labelTimeOfDay(row), axis=1)\n",
    "united['weekday'] = united['purchase_timestamp'].dt.day_name()\n",
    "united = united.loc[:, united.columns != 'purchase_timestamp']\n",
    "\n",
    "united = oneHotEncode(united, {'city', 'delivery_company', 'time_of_day', 'weekday'})\n",
    "# united = one_hot_encode(united, 'city')\n",
    "# united.to_csv(\"city.csv\")\n",
    "# united = one_hot_encode(united, 'delivery_company')\n",
    "# united = one_hot_encode(united, 'time_of_day')\n",
    "# united = one_hot_encode(united, 'weekday')\n",
    "\n",
    "\n",
    "united['deltas'] = pd.to_numeric(united['deltas'].dt.days, downcast='integer')\n",
    "\n",
    "\n",
    "# normalizacja deltas\n",
    "# unitated['deltas'] = unitated['deltas'] /unitated['deltas'].abs().max()\n",
    "\n",
    "\n",
    "# train, test = train_test_split(unitated, test_size=0.2)\n",
    "# X_train = train.loc[:, train.columns != 'deltas']\n",
    "# y_train = train['deltas']\n",
    "\n",
    "# X_test = test.loc[:, test.columns != 'deltas']\n",
    "# y_test = test['deltas']"
   ]
  },
  {
   "cell_type": "code",
   "execution_count": null,
   "metadata": {},
   "outputs": [],
   "source": []
  },
  {
   "cell_type": "code",
   "execution_count": 21,
   "metadata": {},
   "outputs": [],
   "source": [
    "x = united.drop('deltas', axis=1)\n",
    "y = united['deltas']\n",
    "X_train, X_test, y_train, y_test = train_test_split(x, y, test_size=0.30, random_state=40)\n",
    "# #Scaling\n",
    "# scaler = StandardScaler()\n",
    "# scaler.fit(X_train)\n",
    "# X_train = scaler.transform(X_train)\n",
    "# X_test = scaler.transform(X_test)\n",
    "X_test.to_csv(\"notzero.csv\")"
   ]
  },
  {
   "cell_type": "code",
   "execution_count": null,
   "metadata": {},
   "outputs": [],
   "source": []
  },
  {
   "cell_type": "code",
   "execution_count": 22,
   "metadata": {},
   "outputs": [
    {
     "data": {
      "text/plain": [
       "GaussianNB()"
      ]
     },
     "execution_count": 22,
     "metadata": {},
     "output_type": "execute_result"
    }
   ],
   "source": [
    "model = GaussianNB()\n",
    "model.fit(X_train, y_train)"
   ]
  },
  {
   "cell_type": "code",
   "execution_count": 23,
   "metadata": {},
   "outputs": [],
   "source": [
    "y_pred = model.predict(X_test)"
   ]
  },
  {
   "cell_type": "code",
   "execution_count": 24,
   "metadata": {},
   "outputs": [
    {
     "data": {
      "text/plain": [
       "5586    1\n",
       "1239    1\n",
       "6197    2\n",
       "5839    2\n",
       "4248    1\n",
       "       ..\n",
       "4760    0\n",
       "7180    1\n",
       "2171    3\n",
       "305     1\n",
       "4074    1\n",
       "Name: deltas, Length: 2248, dtype: int8"
      ]
     },
     "execution_count": 24,
     "metadata": {},
     "output_type": "execute_result"
    }
   ],
   "source": [
    "y_test"
   ]
  },
  {
   "cell_type": "code",
   "execution_count": 25,
   "metadata": {},
   "outputs": [
    {
     "data": {
      "text/plain": [
       "array([0, 2, 4, ..., 3, 4, 0], dtype=int8)"
      ]
     },
     "execution_count": 25,
     "metadata": {},
     "output_type": "execute_result"
    }
   ],
   "source": [
    "y_pred"
   ]
  },
  {
   "cell_type": "code",
   "execution_count": 26,
   "metadata": {},
   "outputs": [],
   "source": [
    "accuracy = accuracy_score(y_test, y_pred)*100"
   ]
  },
  {
   "cell_type": "code",
   "execution_count": 27,
   "metadata": {},
   "outputs": [
    {
     "data": {
      "text/plain": [
       "39.05693950177936"
      ]
     },
     "execution_count": 27,
     "metadata": {},
     "output_type": "execute_result"
    }
   ],
   "source": [
    "accuracy"
   ]
  },
  {
   "cell_type": "code",
   "execution_count": 28,
   "metadata": {},
   "outputs": [],
   "source": [
    "predict_train = model.predict(X_train)\n",
    "predict_test = model.predict(X_test)"
   ]
  },
  {
   "cell_type": "code",
   "execution_count": 29,
   "metadata": {},
   "outputs": [
    {
     "name": "stdout",
     "output_type": "stream",
     "text": [
      "[[ 770   49    4    0    0]\n",
      " [1360  809  139   41   77]\n",
      " [ 288  409  310  270  210]\n",
      " [  41   13   31  234  143]\n",
      " [   0    0    0    0   47]]\n",
      "              precision    recall  f1-score   support\n",
      "\n",
      "           0       0.31      0.94      0.47       823\n",
      "           1       0.63      0.33      0.44      2426\n",
      "           2       0.64      0.21      0.31      1487\n",
      "           3       0.43      0.51      0.46       462\n",
      "           4       0.10      1.00      0.18        47\n",
      "\n",
      "    accuracy                           0.41      5245\n",
      "   macro avg       0.42      0.60      0.37      5245\n",
      "weighted avg       0.56      0.41      0.41      5245\n",
      "\n"
     ]
    }
   ],
   "source": [
    "from sklearn.metrics import classification_report,confusion_matrix\n",
    "\n",
    "#Evaluate predictions for train data\n",
    "print(confusion_matrix(y_train,predict_train))\n",
    "print(classification_report(y_train,predict_train))"
   ]
  },
  {
   "cell_type": "code",
   "execution_count": 30,
   "metadata": {},
   "outputs": [
    {
     "name": "stdout",
     "output_type": "stream",
     "text": [
      "[[309  15   3   0   0]\n",
      " [615 335  56  14  34]\n",
      " [138 194 130 112  73]\n",
      " [ 21   5  16  84  71]\n",
      " [  0   0   0   3  20]]\n",
      "              precision    recall  f1-score   support\n",
      "\n",
      "           0       0.29      0.94      0.44       327\n",
      "           1       0.61      0.32      0.42      1054\n",
      "           2       0.63      0.20      0.31       647\n",
      "           3       0.39      0.43      0.41       197\n",
      "           4       0.10      0.87      0.18        23\n",
      "\n",
      "    accuracy                           0.39      2248\n",
      "   macro avg       0.41      0.55      0.35      2248\n",
      "weighted avg       0.55      0.39      0.39      2248\n",
      "\n"
     ]
    }
   ],
   "source": [
    "#Evaluate predictions for test data\n",
    "print(confusion_matrix(y_test,predict_test))\n",
    "print(classification_report(y_test,predict_test))"
   ]
  },
  {
   "cell_type": "code",
   "execution_count": 32,
   "metadata": {},
   "outputs": [
    {
     "data": {
      "text/plain": [
       "<function matplotlib.pyplot.show(close=None, block=None)>"
      ]
     },
     "execution_count": 32,
     "metadata": {},
     "output_type": "execute_result"
    },
    {
     "data": {
      "image/png": "[encoded data removed]",
      "text/plain": [
       "<Figure size 432x288 with 1 Axes>"
      ]
     },
     "metadata": {
      "needs_background": "light"
     },
     "output_type": "display_data"
    }
   ],
   "source": [
    "plt.plot(y_pred, y_test,\".\")\n",
    "plt.title(\"Depencencies between Predicted and Real Values\")\n",
    "plt.xlabel(\"Predictions\")\n",
    "plt.ylabel(\"Reality\")\n",
    "plt.show"
   ]
  },
  {
   "cell_type": "code",
   "execution_count": null,
   "metadata": {},
   "outputs": [],
   "source": []
  },
  {
   "cell_type": "code",
   "execution_count": 33,
   "metadata": {},
   "outputs": [],
   "source": [
    "import pickle\n",
    "f = open('models/bayes_1.0.0.pickle', 'wb')\n",
    "pickle.dump(model, f)\n",
    "f.close()"
   ]
  },
  {
   "cell_type": "code",
   "execution_count": null,
   "metadata": {},
   "outputs": [],
   "source": []
  }
 ],
 "metadata": {
  "kernelspec": {
   "display_name": "Python 3",
   "language": "python",
   "name": "python3"
  },
  "language_info": {
   "codemirror_mode": {
    "name": "ipython",
    "version": 3
   },
   "file_extension": ".py",
   "mimetype": "text/x-python",
   "name": "python",
   "nbconvert_exporter": "python",
   "pygments_lexer": "ipython3",
   "version": "3.8.8"
  }
 },
 "nbformat": 4,
 "nbformat_minor": 2
}
