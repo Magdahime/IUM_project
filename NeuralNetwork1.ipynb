{
 "cells": [
  {
   "cell_type": "code",
   "execution_count": 1,
   "metadata": {},
   "outputs": [],
   "source": [
    "from sklearn.pipeline import Pipeline\n",
    "from sklearn.preprocessing import PolynomialFeatures\n",
    "from sklearn.model_selection import cross_val_score\n",
    "\n",
    "from sklearn.model_selection import train_test_split\n",
    "from sklearn import preprocessing\n",
    "from sklearn.preprocessing import StandardScaler\n",
    "from sklearn.neural_network import MLPClassifier\n",
    "from sklearn.metrics import mean_squared_error, r2_score\n",
    "\n",
    "import pandas as pd\n",
    "import datetime as dt\n",
    "import random \n",
    "import matplotlib.pyplot as plt\n",
    "import numpy as np\n",
    "\n",
    "from data_preprocessing.DataLoader import DataLoader"
   ]
  },
  {
   "cell_type": "code",
   "execution_count": 2,
   "metadata": {},
   "outputs": [],
   "source": [
    "d = DataLoader.load_data_from_path(\"data/data_new\")"
   ]
  },
  {
   "cell_type": "code",
   "execution_count": 3,
   "metadata": {},
   "outputs": [],
   "source": [
    "def unite_sets(deliveries, products, sessions, users):\n",
    "    deliveries[\"deltas\"] = deliveries[\"delivery_timestamp\"] - deliveries[\"purchase_timestamp\"]\n",
    "\n",
    "    # divide category\n",
    "    categories = products.category_path.str.split(';', expand=True)\n",
    "    products = pd.concat([products, categories], axis=1)\n",
    "    products = products.drop(columns=['category_path'])\n",
    "    products = products.rename(\n",
    "        columns={0: \"primary_category\", 1: \"secondary_category\", 2: \"tertiary_category\", 3: \"quaternary_category\"})\n",
    "\n",
    "\n",
    "    deliveries_sessions = pd.merge(deliveries, sessions, left_on=\"purchase_id\", right_on=\"purchase_id\")\n",
    "    deliveries_sessions_users = pd.merge(deliveries_sessions, users, left_on=\"user_id\", right_on=\"user_id\")\n",
    "    deliveries_sessions_users_products = pd.merge(deliveries_sessions_users, products, left_on=\"product_id\", right_on=\"product_id\")\n",
    "\n",
    "    deliveries_sessions_users_products.to_csv('../out.csv')\n",
    "    return deliveries_sessions_users_products"
   ]
  },
  {
   "cell_type": "code",
   "execution_count": 4,
   "metadata": {},
   "outputs": [],
   "source": [
    "#Function for labeling rows\n",
    "def labelTimeOfDay(row):\n",
    "    hour = row['purchase_timestamp'].hour\n",
    "    if(hour >= 6 and hour < 12):\n",
    "        return \"Morning\"\n",
    "    elif(hour >= 12 and hour < 18):\n",
    "        return \"Afternoon\"\n",
    "    elif(hour >=18 and hour < 24):\n",
    "        return \"Evening\"\n",
    "    else:\n",
    "        return \"Night\""
   ]
  },
  {
   "cell_type": "code",
   "execution_count": 5,
   "metadata": {},
   "outputs": [],
   "source": [
    "d = DataLoader.load_data_from_path(\"data/data_new\")\n",
    "\n",
    "products = d.products\n",
    "deliveries = d.deliveries\n",
    "sessions = d.sessions\n",
    "users = d.users\n",
    "\n",
    "united = unite_sets(deliveries, products, sessions, users)"
   ]
  },
  {
   "cell_type": "code",
   "execution_count": 6,
   "metadata": {},
   "outputs": [],
   "source": [
    "# nie wnosi zadnej informacji wiec wyrzucamy daną kolumnę\n",
    "united = united.loc[:, united.columns != 'event_type']\n",
    "united = united.loc[:, united.columns != 'name']\n",
    "united = united.loc[:, united.columns != 'street']\n",
    "united = united.loc[:, united.columns != 'product_name']\n",
    "united = united.loc[:, united.columns != 'delivery_timestamp']\n",
    "united = united.loc[:, united.columns != 'timestamp']\n",
    "united = united.loc[:, united.columns != 'purchase_id']\n",
    "united = united.loc[:, united.columns != 'product_id']\n",
    "united = united.loc[:, united.columns != 'user_id']\n",
    "united = united.loc[:, united.columns != 'session_id']\n",
    "united = united.loc[:, united.columns != 'offered_discount']\n",
    "united = united.loc[:, united.columns != 'price']\n",
    "united = united.loc[:, united.columns != 'primary_category']\n",
    "united = united.loc[:, united.columns != 'secondary_category']\n",
    "united = united.loc[:, united.columns != 'tertiary_category']\n",
    "united = united.loc[:, united.columns != 'quaternary_category']\n",
    "\n",
    "united.loc[:,'time_of_day'] = united.apply(lambda row: labelTimeOfDay(row), axis=1)\n",
    "united['weekday'] = united['purchase_timestamp'].dt.day_name()\n",
    "united = united.loc[:, united.columns != 'purchase_timestamp']"
   ]
  },
  {
   "cell_type": "code",
   "execution_count": 7,
   "metadata": {},
   "outputs": [],
   "source": [
    "y = pd.get_dummies(united.city, prefix='city')\n",
    "united = united.join(other=y)\n",
    "united = united.loc[:, united.columns != 'city']\n",
    "\n",
    "y = pd.get_dummies(united.delivery_company, prefix='delivery_company')\n",
    "united = united.join(other=y)\n",
    "united = united.loc[:, united.columns != 'delivery_company']\n",
    "\n",
    "y = pd.get_dummies(united.time_of_day, prefix='time_of_day')\n",
    "united = united.join(other=y)\n",
    "united = united.loc[:, united.columns != 'time_of_day']\n",
    "\n",
    "y = pd.get_dummies(united.weekday, prefix='weekday')\n",
    "united = united.join(other=y)\n",
    "united = united.loc[:, united.columns != 'weekday']\n",
    "\n",
    "united['deltas'] = pd.to_numeric(united['deltas'].dt.days, downcast='integer')"
   ]
  },
  {
   "cell_type": "code",
   "execution_count": 8,
   "metadata": {},
   "outputs": [
    {
     "name": "stdout",
     "output_type": "stream",
     "text": [
      "1150\n",
      "3480\n",
      "2134\n",
      "659\n",
      "70\n"
     ]
    }
   ],
   "source": [
    "#checking data distribution\n",
    "\n",
    "united_0 = united.loc[united['deltas'] == 0]\n",
    "united_1 = united.loc[united['deltas'] == 1]\n",
    "united_2 = united.loc[united['deltas'] == 2]\n",
    "united_3 = united.loc[united['deltas'] == 3]\n",
    "united_4 = united.loc[united['deltas'] == 4]\n",
    "united_3_4 = united.loc[united['deltas'].isin([3,4])]\n",
    "\n",
    "sizes = [len(united_0), len(united_1), len(united_2),len(united_3_4)]\n",
    "print(len(united_0))\n",
    "print(len(united_1))\n",
    "print(len(united_2))\n",
    "print(len(united_3))\n",
    "print(len(united_4))\n",
    "\n",
    "# #merging groups\n",
    "# united.loc[united['deltas'].isin([3,4]),'deltas'] = 3\n",
    "# print(\"AFTER MERGE:\")\n",
    "# print(len(united.loc[united['deltas'].isin([3,4])]))\n"
   ]
  },
  {
   "cell_type": "code",
   "execution_count": 9,
   "metadata": {},
   "outputs": [],
   "source": [
    "target_column = ['deltas'] \n",
    "predictors = list(set(list(united.columns))-set(target_column))\n",
    "# united[predictors] = united[predictors]/united[predictors].max()\n",
    "# united.describe().transpose()"
   ]
  },
  {
   "cell_type": "code",
   "execution_count": 10,
   "metadata": {},
   "outputs": [],
   "source": [
    "train, test= train_test_split(united, test_size=0.30, random_state=40)"
   ]
  },
  {
   "cell_type": "code",
   "execution_count": 11,
   "metadata": {},
   "outputs": [],
   "source": [
    "# column_names = united.columns\n",
    "\n",
    "# train_united_0 = train.loc[train['deltas'] == 0]\n",
    "# train_united_1 = train.loc[train['deltas'] == 1]\n",
    "# train_united_2 = train.loc[train['deltas'] == 2]\n",
    "# train_united_3 = train.loc[train['deltas'] == 3]\n",
    "# train_united_4 = train.loc[train['deltas'] == 4]\n",
    "# train_united_3_4 = train.loc[train['deltas'].isin([3,4])]\n",
    "\n",
    "\n",
    "\n",
    "# print(len(train_united_0))\n",
    "# print(len(train_united_1))\n",
    "# print(len(train_united_2))\n",
    "# print(len(train_united_3))\n",
    "# print(len(train_united_4))\n",
    "# print(len(train_united_3_4))\n",
    "\n",
    "\n",
    "# # sizes = [len(train_united_0), len(train_united_1), len(train_united_2),len(train_united_3),len(train_united_4)]\n",
    "\n",
    "# sizes = [len(train_united_0), len(train_united_1), len(train_united_2),len(train_united_3_4)]\n",
    "\n",
    "# united_divided = [train_united_0, train_united_1, train_united_2, train_united_3_4]\n",
    "# new_united = []\n",
    "\n",
    "# for df in united_divided:\n",
    "#     new_size = random.randint(1000, 1200)\n",
    "#     if(len(df) < new_size):\n",
    "#         new_united += df.values.tolist()\n",
    "#         new_united += df.sample(new_size - len(df), replace=True).values.tolist()\n",
    "#     else:\n",
    "#         new_united += df.sample(new_size).values.tolist()\n",
    "\n",
    "# new_united = pd.DataFrame.from_records(new_united, columns = column_names)\n",
    "\n",
    "# train_united_0 = new_united.loc[new_united['deltas'] == 0]\n",
    "# train_united_1 = new_united.loc[new_united['deltas'] == 1]\n",
    "# train_united_2 = new_united.loc[new_united['deltas'] == 2]\n",
    "# train_united_3 = new_united.loc[new_united['deltas'] == 3]\n",
    "# train_united_4 = new_united.loc[new_united['deltas'] == 4]\n",
    "\n",
    "# print(\"NEW:\")\n",
    "# print(len(train_united_0))\n",
    "# print(len(train_united_1))\n",
    "# print(len(train_united_2))\n",
    "# print(len(train_united_3))\n",
    "# print(len(train_united_4))\n",
    "\n",
    "# train = new_united\n",
    "# train.describe().transpose()"
   ]
  },
  {
   "cell_type": "code",
   "execution_count": 12,
   "metadata": {},
   "outputs": [],
   "source": [
    "X_train = train[predictors].values\n",
    "y_train = train[target_column].values\n",
    "\n",
    "X_test = test[predictors].values\n",
    "y_test = test[target_column].values\n",
    "\n",
    "#Scaling\n",
    "scaler = StandardScaler()\n",
    "scaler.fit(X_train)\n",
    "X_train = scaler.transform(X_train)\n",
    "X_test = scaler.transform(X_test)"
   ]
  },
  {
   "cell_type": "code",
   "execution_count": 13,
   "metadata": {},
   "outputs": [],
   "source": [
    "sizePred = len(predictors)\n",
    "mlpClassifier = MLPClassifier(activation='relu', solver='sgd', max_iter=1000)\n",
    "mlpClassifier.fit(X_train,y_train.ravel())\n",
    "\n",
    "predict_train = mlpClassifier.predict(X_train)\n",
    "predict_test = mlpClassifier.predict(X_test)"
   ]
  },
  {
   "cell_type": "code",
   "execution_count": 14,
   "metadata": {},
   "outputs": [
    {
     "name": "stdout",
     "output_type": "stream",
     "text": [
      "[[ 530  251   42    0    0]\n",
      " [ 197 1952  249   28    0]\n",
      " [  37  327 1057   64    2]\n",
      " [   1   39  132  286    4]\n",
      " [   0    0   17   10   20]]\n",
      "              precision    recall  f1-score   support\n",
      "\n",
      "           0       0.69      0.64      0.67       823\n",
      "           1       0.76      0.80      0.78      2426\n",
      "           2       0.71      0.71      0.71      1487\n",
      "           3       0.74      0.62      0.67       462\n",
      "           4       0.77      0.43      0.55        47\n",
      "\n",
      "    accuracy                           0.73      5245\n",
      "   macro avg       0.73      0.64      0.68      5245\n",
      "weighted avg       0.73      0.73      0.73      5245\n",
      "\n"
     ]
    }
   ],
   "source": [
    "from sklearn.metrics import classification_report,confusion_matrix\n",
    "\n",
    "#Evaluate predictions for train data\n",
    "print(confusion_matrix(y_train,predict_train))\n",
    "print(classification_report(y_train,predict_train))\n"
   ]
  },
  {
   "cell_type": "code",
   "execution_count": 15,
   "metadata": {},
   "outputs": [
    {
     "name": "stdout",
     "output_type": "stream",
     "text": [
      "[[201 107  18   1   0]\n",
      " [112 819 109  14   0]\n",
      " [ 18 184 414  29   2]\n",
      " [  1  29  64 100   3]\n",
      " [  0   0  10   4   9]]\n",
      "              precision    recall  f1-score   support\n",
      "\n",
      "           0       0.61      0.61      0.61       327\n",
      "           1       0.72      0.78      0.75      1054\n",
      "           2       0.67      0.64      0.66       647\n",
      "           3       0.68      0.51      0.58       197\n",
      "           4       0.64      0.39      0.49        23\n",
      "\n",
      "    accuracy                           0.69      2248\n",
      "   macro avg       0.66      0.59      0.62      2248\n",
      "weighted avg       0.68      0.69      0.68      2248\n",
      "\n"
     ]
    }
   ],
   "source": [
    "#Evaluate predictions for test data\n",
    "print(confusion_matrix(y_test,predict_test))\n",
    "print(classification_report(y_test,predict_test))"
   ]
  },
  {
   "cell_type": "code",
   "execution_count": 16,
   "metadata": {},
   "outputs": [
    {
     "data": {
      "text/plain": [
       "<function matplotlib.pyplot.show(close=None, block=None)>"
      ]
     },
     "execution_count": 16,
     "metadata": {},
     "output_type": "execute_result"
    },
    {
     "data": {
      "image/png": "[encoded data removed]",
      "text/plain": [
       "<Figure size 432x288 with 1 Axes>"
      ]
     },
     "metadata": {
      "needs_background": "light"
     },
     "output_type": "display_data"
    }
   ],
   "source": [
    "plt.plot(predict_test, y_test,\".\")\n",
    "plt.title(\"Depencencies between Predicted and Real Values\")\n",
    "plt.xlabel(\"Predictions\")\n",
    "plt.ylabel(\"Reality\")\n",
    "plt.show"
   ]
  },
  {
   "cell_type": "code",
   "execution_count": 17,
   "metadata": {},
   "outputs": [],
   "source": [
    "import pickle\n",
    "f = open('models/neural_n_1.0.0.pickle', 'wb')\n",
    "pickle.dump(mlpClassifier, f)\n",
    "f.close()"
   ]
  },
  {
   "cell_type": "code",
   "execution_count": null,
   "metadata": {},
   "outputs": [],
   "source": []
  }
 ],
 "metadata": {
  "kernelspec": {
   "display_name": "Python 3",
   "language": "python",
   "name": "python3"
  },
  "language_info": {
   "codemirror_mode": {
    "name": "ipython",
    "version": 3
   },
   "file_extension": ".py",
   "mimetype": "text/x-python",
   "name": "python",
   "nbconvert_exporter": "python",
   "pygments_lexer": "ipython3",
   "version": "3.8.8"
  }
 },
 "nbformat": 4,
 "nbformat_minor": 2
}
